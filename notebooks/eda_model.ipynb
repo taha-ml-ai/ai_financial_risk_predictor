{
 "cells": [
  {
   "cell_type": "markdown",
   "metadata": {},
   "source": [
    "# File: K:\\proj\\github\\ai_financial_risk_predictor\\notebooks\\eda_model.ipynb\n",
    "\n",
    "Exploratory Data Analysis (EDA) and initial model prototyping for AI Financial Risk Predictor."
   ]
  },
  {
   "cell_type": "code",
   "execution_count": null,
   "metadata": {},
   "outputs": [],
   "source": [
    "{\n",
    " \"cells\": [\n",
    "  {\n",
    "   \"cell_type\": \"markdown\",\n",
    "   \"metadata\": {},\n",
    "   \"source\": [\n",
    "    \"# File: K:\\\\Proj\\\\GitHub\\\\ai_financial_risk_predictor\\\\notebooks\\\\eda_model.ipynb\\n\",\n",
    "    \"\\n\",\n",
    "    \"Exploratory Data Analysis (EDA) and initial model prototyping for AI Financial Risk Predictor.\"\n",
    "   ]\n",
    "  },\n",
    "  {\n",
    "   \"cell_type\": \"code\",\n",
    "   \"metadata\": {},\n",
    "   \"source\": [\n",
    "    \"# Import libraries\\n\",\n",
    "    \"import pandas as pd\\n\",\n",
    "    \"import numpy as np\\n\",\n",
    "    \"import matplotlib.pyplot as plt\\n\",\n",
    "    \"import seaborn as sns\\n\",\n",
    "    \"\\n\",\n",
    "    \"# Load dataset\\n\",\n",
    "    \"# df = pd.read_csv('../data/synthetic_financial_data.csv')\"\n",
    "   ]\n",
    "  }\n",
    " ],\n",
    " \"metadata\": {},\n",
    " \"nbformat\": 4,\n",
    " \"nbformat_minor\": 5\n",
    "}\n"
   ]
  }
 ],
 "metadata": {
  "language_info": {
   "name": "python"
  }
 },
 "nbformat": 4,
 "nbformat_minor": 5
}
